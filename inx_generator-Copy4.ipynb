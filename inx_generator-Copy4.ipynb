{
 "cells": [
  {
   "cell_type": "code",
   "execution_count": 9,
   "metadata": {},
   "outputs": [],
   "source": [
    "import jinja2\n",
    "def render_inx(**kwargs):\n",
    "    with open(\"template.inx\", \"r\") as fid:\n",
    "        inx_template_str = fid.read()\n",
    "    inx_template = jinja2.Template(inx_template_str)\n",
    "    print(inx_template.render(**kwargs))"
   ]
  },
  {
   "cell_type": "code",
   "execution_count": 12,
   "metadata": {},
   "outputs": [
    {
     "data": {
      "text/plain": [
       "{'name': 'Hello World', 'id': 'world.hello.example.com'}"
      ]
     },
     "execution_count": 12,
     "metadata": {},
     "output_type": "execute_result"
    }
   ],
   "source": [
    "extension = {\n",
    "    \"name\": \"Hello World\",\n",
    "    \"id\": \"world.hello.example.com\"\n",
    "}\n",
    "extension"
   ]
  },
  {
   "cell_type": "code",
   "execution_count": 11,
   "metadata": {},
   "outputs": [
    {
     "data": {
      "text/plain": [
       "[{'type': 'executable', 'path': 'hello.py'},\n",
       " {'type': 'executable', 'path': 'inkex.py'}]"
      ]
     },
     "execution_count": 11,
     "metadata": {},
     "output_type": "execute_result"
    }
   ],
   "source": [
    "dependencies=[{\"type\": \"executable\", \"path\": path+\".py\"} for path in [\"hello\", \"inkex\"]]\n",
    "dependencies"
   ]
  },
  {
   "cell_type": "code",
   "execution_count": 18,
   "metadata": {},
   "outputs": [],
   "source": [
    "types = [\"boolean\", \"int\", \"float\", \"string\", \"enum\", \"optiongroup\", \"color\", \"notebook\", \"description\"]"
   ]
  },
  {
   "cell_type": "code",
   "execution_count": 20,
   "metadata": {},
   "outputs": [
    {
     "name": "stdout",
     "output_type": "stream",
     "text": [
      "<?xml version=\"1.0\" encoding=\"UTF-8\"?>\n",
      "<inkscape-extension xmlns=\"http://www.inkscape.org/namespace/inkscape/extension\">\n",
      "\t<_name>Hello World</_name>\n",
      "\t<id>world.hello.example.com</id>\n",
      "\n",
      "    <!-- Dependencies -->\n",
      "\t<dependency type=\"executable\" location=\"extensions\">hello.py</dependency>\n",
      "\t<dependency type=\"executable\" location=\"extensions\">inkex.py</dependency>\n",
      "    <!-- End Dependencies -->\n",
      "\n",
      "    <!-- Parameters -->\n",
      "    <!-- End Parameters -->\n",
      "\n",
      "\n",
      "\n",
      "\t<effect>\n",
      "\t\t<effects-menu>\n",
      "\t\t\t<submenu _name=\"Hello World!\"/>\n",
      "\t\t</effects-menu>\n",
      "\t\t<object-type>path</object-type>\n",
      "  \t</effect>\n",
      "\n",
      "\t<script>\n",
      "\t\t<command reldir=\"extensions\" interpreter=\"python\">laser.py</command>\n",
      "\t</script>\n",
      "\n",
      "</inkscape-extension>\n"
     ]
    }
   ],
   "source": [
    "inx_cfg = {\n",
    "    \"extension\": extension,\n",
    "    \"dependencies\": dependencies,\n",
    "    \"script\": \"laser.py\",\n",
    "}\n",
    "render_inx(**inx_cfg)"
   ]
  },
  {
   "cell_type": "code",
   "execution_count": null,
   "metadata": {},
   "outputs": [],
   "source": []
  }
 ],
 "metadata": {
  "kernelspec": {
   "display_name": "Python 3",
   "language": "python",
   "name": "python3"
  },
  "language_info": {
   "codemirror_mode": {
    "name": "ipython",
    "version": 3
   },
   "file_extension": ".py",
   "mimetype": "text/x-python",
   "name": "python",
   "nbconvert_exporter": "python",
   "pygments_lexer": "ipython3",
   "version": "3.6.5"
  }
 },
 "nbformat": 4,
 "nbformat_minor": 2
}
