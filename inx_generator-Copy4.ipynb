{
 "cells": [
  {
   "cell_type": "code",
   "execution_count": 28,
   "metadata": {},
   "outputs": [],
   "source": [
    "import jinja2\n",
    "def render_inx(**kwargs):\n",
    "    with open(\"template.inx\", \"r\") as fid:\n",
    "        inx_template_str = fid.read()\n",
    "    inx_template = jinja2.Template(inx_template_str)\n",
    "    inx = inx_template.render(**kwargs)\n",
    "    with open(\"hello.inx\", \"w\") as fid:\n",
    "        print(inx)\n",
    "        print(inx, file=fid)"
   ]
  },
  {
   "cell_type": "code",
   "execution_count": 29,
   "metadata": {},
   "outputs": [
    {
     "data": {
      "text/plain": [
       "{'name': 'Hello World', 'id': 'world.hello.example.com'}"
      ]
     },
     "execution_count": 29,
     "metadata": {},
     "output_type": "execute_result"
    }
   ],
   "source": [
    "extension = {\n",
    "    \"name\": \"Hello World\",\n",
    "    \"id\": \"world.hello.example.com\"\n",
    "}\n",
    "extension"
   ]
  },
  {
   "cell_type": "code",
   "execution_count": 30,
   "metadata": {},
   "outputs": [
    {
     "data": {
      "text/plain": [
       "[{'type': 'executable', 'path': 'hello.py'},\n",
       " {'type': 'executable', 'path': 'inkex.py'}]"
      ]
     },
     "execution_count": 30,
     "metadata": {},
     "output_type": "execute_result"
    }
   ],
   "source": [
    "dependencies=[{\"type\": \"executable\", \"path\": path+\".py\"} for path in [\"hello\", \"inkex\"]]\n",
    "dependencies"
   ]
  },
  {
   "cell_type": "code",
   "execution_count": 31,
   "metadata": {},
   "outputs": [],
   "source": [
    "types = [\"boolean\", \"int\", \"float\", \"string\", \"enum\", \"optiongroup\", \"color\", \"notebook\", \"description\"]"
   ]
  },
  {
   "cell_type": "code",
   "execution_count": 32,
   "metadata": {},
   "outputs": [
    {
     "name": "stdout",
     "output_type": "stream",
     "text": [
      "<?xml version=\"1.0\" encoding=\"UTF-8\"?>\n",
      "<inkscape-extension xmlns=\"http://www.inkscape.org/namespace/inkscape/extension\">\n",
      "\t<_name>Hello World</_name>\n",
      "\t<id>world.hello.example.com</id>\n",
      "\n",
      "    <!-- Dependencies -->\n",
      "\t<dependency type=\"executable\" location=\"extensions\">hello.py</dependency>\n",
      "\t<dependency type=\"executable\" location=\"extensions\">inkex.py</dependency>\n",
      "    <!-- End Dependencies -->\n",
      "\n",
      "    <!-- Parameters -->\n",
      "    <!-- End Parameters -->\n",
      "\n",
      "    <!-- http://wiki.inkscape.org/wiki/index.php/INX_Parameters#Available_types -->\n",
      "    <param name=\"name_boolean\" type=\"boolean\" gui-text=\"Some label text\">false</param>\n",
      "    <param name=\"name_color\" type=\"color\"></param>\n",
      "\n",
      "\n",
      "    <param name=\"name_description\" type=\"description\">Some text here.</param>\n",
      "    <param name=\"name_header\" type=\"description\" appearance=\"header\">Header</param>\n",
      "\n",
      "    <param name=\"name_name\" type=\"enum\" gui-text=\"Some label text\">\n",
      "       <item value=\"1\">First option</item>\n",
      "       <item value=\"2\">Second option</item>\n",
      "    </param>\n",
      "\n",
      "    <param name=\"name_float\" type=\"float\" precision=\"3\" min=\"0\" max=\"9999\" gui-text=\"Some label text\">1.234</param>\n",
      "\n",
      "    <param name=\"name_float2\" type=\"float\" appearance=\"full\" precision=\"3\" min=\"0\" max=\"9999\"  gui-text=\"Some label text\">1.234</param>\n",
      "    <effect>\n",
      "\t\t<effects-menu>\n",
      "\t\t\t<submenu _name=\"Hello World!\"/>\n",
      "\t\t</effects-menu>\n",
      "\t\t<object-type>path</object-type>\n",
      "  \t</effect>\n",
      "\n",
      "    <param name=\"name_optiongroup\" type=\"optiongroup\" gui-text=\"Some label text\">\n",
      "        <option value=\"1\">First option</option>\n",
      "        <option value=\"2\">Second option</option>\n",
      "    </param>\n",
      "    <param name=\"name_optiongroup2\" type=\"optiongroup\" appearance=\"minimal\" gui-text=\"Some label text\">\n",
      "        <option value=\"1\">First option</option>\n",
      "        <option value=\"2\">Second option</option>\n",
      "    </param>\n",
      "    <param name=\"name_string\" type=\"string\" gui-text=\"Some text label\">Some default text</param>\n",
      "\n",
      "\n",
      "\t<script>\n",
      "\t\t<command reldir=\"extensions\" interpreter=\"python\">laser.py</command>\n",
      "\t</script>\n",
      "\n",
      "</inkscape-extension>\n"
     ]
    }
   ],
   "source": [
    "inx_cfg = {\n",
    "    \"extension\": extension,\n",
    "    \"dependencies\": dependencies,\n",
    "    \"script\": \"hello.py\",\n",
    "}\n",
    "render_inx(**inx_cfg)"
   ]
  }
 ],
 "metadata": {
  "kernelspec": {
   "display_name": "Python 3",
   "language": "python",
   "name": "python3"
  },
  "language_info": {
   "codemirror_mode": {
    "name": "ipython",
    "version": 3
   },
   "file_extension": ".py",
   "mimetype": "text/x-python",
   "name": "python",
   "nbconvert_exporter": "python",
   "pygments_lexer": "ipython3",
   "version": "3.6.5"
  }
 },
 "nbformat": 4,
 "nbformat_minor": 2
}
