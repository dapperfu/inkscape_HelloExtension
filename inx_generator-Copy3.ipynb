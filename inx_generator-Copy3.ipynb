{
 "cells": [
  {
   "cell_type": "code",
   "execution_count": 7,
   "metadata": {},
   "outputs": [],
   "source": [
    "import jinja2\n",
    "class objectview(object):\n",
    "    def __init__(self, d):\n",
    "        self.__dict__ = d"
   ]
  },
  {
   "cell_type": "code",
   "execution_count": 8,
   "metadata": {},
   "outputs": [],
   "source": [
    "def render_inx(**kwargs):\n",
    "    with open(\"template.inx\", \"r\") as fid:\n",
    "        inx_template_str = fid.read()\n",
    "    inx_template = jinja2.Template(inx_template_str)\n",
    "    print(inx_template.render(**kwargs))"
   ]
  },
  {
   "cell_type": "code",
   "execution_count": 9,
   "metadata": {},
   "outputs": [],
   "source": [
    "extension = objectview(\n",
    "    {\n",
    "    \"name\": \"Hello World\",\n",
    "    \"id\": \"world.hello.example.com\"\n",
    "    }\n",
    ")"
   ]
  },
  {
   "cell_type": "code",
   "execution_count": 10,
   "metadata": {},
   "outputs": [],
   "source": [
    "inkex_dependency = objectview(\n",
    "    {\n",
    "    \"type\": \"executable\",\n",
    "    \"path\": \"inkex.py\"\n",
    "    }\n",
    ")\n",
    "hello_dependency = objectview(\n",
    "    {\n",
    "    \"type\": \"executable\",\n",
    "    \"path\": \"hello.py\"\n",
    "    }\n",
    ")\n",
    "dependencies=[inkex_dependency, hello_dependency]"
   ]
  },
  {
   "cell_type": "code",
   "execution_count": 14,
   "metadata": {},
   "outputs": [
    {
     "name": "stdout",
     "output_type": "stream",
     "text": [
      "<?xml version=\"1.0\" encoding=\"UTF-8\"?>\n",
      "<inkscape-extension xmlns=\"http://www.inkscape.org/namespace/inkscape/extension\">\n",
      "\t<_name>Hello World</_name>\n",
      "\t<id>world.hello.example.com</id>\n",
      "\n",
      "\t<dependency type=\"executable\" location=\"extensions\">inkex.py</dependency>\n",
      "\n",
      "\t<dependency type=\"executable\" location=\"extensions\">hello.py</dependency>\n",
      "\n",
      "\n",
      "\n",
      "\n",
      "\n",
      "\t<param name=\"laser-off-command\" type=\"string\" _gui-text=\"Laser OFF Command:\">M05</param>\n",
      "\t<param name=\"travel-speed\" type=\"int\" min=\"0\" max=\"10000\" _gui-text=\"Travel Speed (mm/min or in/min):\">3000</param>\n",
      "\t<param name=\"laser-speed\" type=\"int\" min=\"0\" max=\"4000\" _gui-text=\"Laser Speed (mm/min or in/min):\">100</param>\n",
      "\t<param name=\"laser-power\" type=\"int\" min=\"0\" max=\"20000\" _gui-text=\"Laser Power S# (0-255 or 0-12000):\">255</param>\n",
      "\t<param name=\"power-delay\" type=\"float\" min=\"0\" max=\"1000\" _gui-text=\"Power-On Delay (ms or s):\">0</param>\n",
      "\t<param name=\"passes\" type=\"int\" min=\"1\" max=\"100\" _gui-text=\"Passes:\">1</param>\n",
      "\t<param name=\"pass-depth\" type=\"float\" min=\"0\" max=\"10\" _gui-text=\"Pass Depth (mm or in):\">1</param>\n",
      "\t<param name=\"directory\" type=\"string\" _gui-text=\"Directory:\"></param>\n",
      "\t<param name=\"filename\" type=\"string\" _gui-text=\"Filename:\">output.gcode</param>\n",
      "\t<param name=\"add-numeric-suffix-to-filename\" type=\"boolean\" _gui-text=\"Add numeric suffix to filename\">true</param>\n",
      "\n",
      "\t<param name=\"unit\" type=\"enum\" _gui-text=\"All Units (mm or in):\">\n",
      "\t\t<item value=\"G21 (All units in mm)\">mm</item>\n",
      "\t\t<item value=\"G20 (All units in inches)\">in</item>\n",
      "\t</param>\n",
      "\n",
      "\t<effect>\n",
      "\t\t<effects-menu>\n",
      "\t\t\t<submenu _name=\"Generate Laser Gcode\"/>\n",
      "\t\t</effects-menu>\n",
      "\t\t<object-type>path</object-type>\n",
      "  \t</effect>\n",
      "\n",
      "\t<script>\n",
      "\t\t<command reldir=\"extensions\" interpreter=\"python\">laser.py</command>\n",
      "\t</script>\n",
      "\n",
      "</inkscape-extension>\n"
     ]
    }
   ],
   "source": [
    "inx_cfg = {\n",
    "    \"extension\": extension,\n",
    "    \"dependencies\": dependencies\n",
    "}\n",
    "render_inx(**inx_cfg)"
   ]
  },
  {
   "cell_type": "code",
   "execution_count": null,
   "metadata": {},
   "outputs": [],
   "source": []
  }
 ],
 "metadata": {
  "kernelspec": {
   "display_name": "Python 3",
   "language": "python",
   "name": "python3"
  },
  "language_info": {
   "codemirror_mode": {
    "name": "ipython",
    "version": 3
   },
   "file_extension": ".py",
   "mimetype": "text/x-python",
   "name": "python",
   "nbconvert_exporter": "python",
   "pygments_lexer": "ipython3",
   "version": "3.6.5"
  }
 },
 "nbformat": 4,
 "nbformat_minor": 2
}
